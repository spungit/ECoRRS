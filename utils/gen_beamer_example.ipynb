{
 "cells": [
  {
   "cell_type": "code",
   "execution_count": 1,
   "metadata": {},
   "outputs": [],
   "source": [
    "from glob import glob\n",
    "import os\n",
    "\n",
    "# import the beamer class\n",
    "from utils import *"
   ]
  },
  {
   "cell_type": "code",
   "execution_count": 5,
   "metadata": {},
   "outputs": [],
   "source": [
    "# direct to a folder with plots in it\n",
    "plot_dir = '../../../plots/summary_plots/'\n",
    "plot_list = glob(plot_dir+'*')\n",
    "\n",
    "# where do you want output to save?\n",
    "out_dir = '../../../beamer/'"
   ]
  },
  {
   "cell_type": "code",
   "execution_count": 6,
   "metadata": {},
   "outputs": [],
   "source": [
    "# create beamer object\n",
    "beamer = Beamer('presentation',out_dir=out_dir,author='Brian',title='Summary Plots')\n",
    "# loop through plots\n",
    "for plot in plot_list:\n",
    "    # set caption\n",
    "    cap = plot.split('/')[-1].replace('.png','').replace('_',' ')\n",
    "    # create new frame with single plot on each\n",
    "    beamer.new_frame()\n",
    "    beamer.include_graphics(plot,caption=cap)\n",
    "    beamer.end_frame()\n",
    "    \n",
    "# end, compile\n",
    "beamer.end()"
   ]
  },
  {
   "cell_type": "code",
   "execution_count": null,
   "metadata": {},
   "outputs": [],
   "source": []
  },
  {
   "cell_type": "code",
   "execution_count": null,
   "metadata": {},
   "outputs": [],
   "source": []
  }
 ],
 "metadata": {
  "kernelspec": {
   "display_name": "Python 3",
   "language": "python",
   "name": "python3"
  },
  "language_info": {
   "codemirror_mode": {
    "name": "ipython",
    "version": 3
   },
   "file_extension": ".py",
   "mimetype": "text/x-python",
   "name": "python",
   "nbconvert_exporter": "python",
   "pygments_lexer": "ipython3",
   "version": "3.7.3"
  }
 },
 "nbformat": 4,
 "nbformat_minor": 4
}
